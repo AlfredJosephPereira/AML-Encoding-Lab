{
 "cells": [
  {
   "cell_type": "markdown",
   "id": "d1c38d51-39d5-40be-a58c-0fcb269f9955",
   "metadata": {},
   "source": [
    "Step 1: SETUP & IMPORT"
   ]
  },
  {
   "cell_type": "code",
   "execution_count": 5,
   "id": "f35c559c-9487-4f8d-b92d-0ad661b188dc",
   "metadata": {},
   "outputs": [],
   "source": [
    "# Step 1: Import libraries\n",
    "import pandas as pd\n",
    "import warnings\n",
    "warnings.simplefilter(action='ignore', category=FutureWarning)  # Clean up warning output\n",
    "\n",
    "# Display settings\n",
    "pd.set_option('display.max_rows', 500)\n",
    "pd.set_option('display.max_columns', 500)\n",
    "pd.set_option('display.width', 1000)\n"
   ]
  },
  {
   "cell_type": "markdown",
   "id": "bfe02ebe-db9c-4dbd-b393-29e0dea0e07f",
   "metadata": {},
   "source": [
    "Step 2: LOAD & CLEAN DATA"
   ]
  },
  {
   "cell_type": "code",
   "execution_count": 6,
   "id": "4f25bd94-e4b0-41ba-b944-35e51b4c9cf2",
   "metadata": {},
   "outputs": [],
   "source": [
    "# Step 2: Load dataset from UCI\n",
    "url = \"https://archive.ics.uci.edu/ml/machine-learning-databases/autos/imports-85.data\"\n",
    "\n",
    "col_names = ['symboling', 'normalized-losses', 'fuel-type', 'aspiration', 'num-of-doors',\n",
    "             'body-style', 'drive-wheels', 'engine-location', 'wheel-base', 'length', 'width',\n",
    "             'height', 'curb-weight', 'engine-type', 'num-of-cylinders', 'engine-size',\n",
    "             'fuel-system', 'bore', 'stroke', 'compression-ratio', 'horsepower', 'peak-rpm',\n",
    "             'city-mpg', 'highway-mpg', 'price']\n",
    "\n",
    "df = pd.read_csv(url, names=col_names, na_values=\"?\", header=None)\n"
   ]
  },
  {
   "cell_type": "markdown",
   "id": "be912e66-380a-4a60-a469-9bdfb62b8c35",
   "metadata": {},
   "source": [
    "Step 3: SELECT 4 COLUMNS FOR ENCODING"
   ]
  },
  {
   "cell_type": "code",
   "execution_count": 7,
   "id": "558b3eb4-016e-4729-a3d5-384db042a830",
   "metadata": {
    "scrolled": true
   },
   "outputs": [
    {
     "data": {
      "text/html": [
       "<div>\n",
       "<style scoped>\n",
       "    .dataframe tbody tr th:only-of-type {\n",
       "        vertical-align: middle;\n",
       "    }\n",
       "\n",
       "    .dataframe tbody tr th {\n",
       "        vertical-align: top;\n",
       "    }\n",
       "\n",
       "    .dataframe thead th {\n",
       "        text-align: right;\n",
       "    }\n",
       "</style>\n",
       "<table border=\"1\" class=\"dataframe\">\n",
       "  <thead>\n",
       "    <tr style=\"text-align: right;\">\n",
       "      <th></th>\n",
       "      <th>aspiration</th>\n",
       "      <th>num-of-doors</th>\n",
       "      <th>drive-wheels</th>\n",
       "      <th>num-of-cylinders</th>\n",
       "    </tr>\n",
       "  </thead>\n",
       "  <tbody>\n",
       "    <tr>\n",
       "      <th>3</th>\n",
       "      <td>std</td>\n",
       "      <td>two</td>\n",
       "      <td>rwd</td>\n",
       "      <td>four</td>\n",
       "    </tr>\n",
       "    <tr>\n",
       "      <th>3</th>\n",
       "      <td>std</td>\n",
       "      <td>two</td>\n",
       "      <td>rwd</td>\n",
       "      <td>four</td>\n",
       "    </tr>\n",
       "    <tr>\n",
       "      <th>1</th>\n",
       "      <td>std</td>\n",
       "      <td>two</td>\n",
       "      <td>rwd</td>\n",
       "      <td>six</td>\n",
       "    </tr>\n",
       "    <tr>\n",
       "      <th>2</th>\n",
       "      <td>std</td>\n",
       "      <td>four</td>\n",
       "      <td>fwd</td>\n",
       "      <td>four</td>\n",
       "    </tr>\n",
       "    <tr>\n",
       "      <th>2</th>\n",
       "      <td>std</td>\n",
       "      <td>four</td>\n",
       "      <td>4wd</td>\n",
       "      <td>five</td>\n",
       "    </tr>\n",
       "  </tbody>\n",
       "</table>\n",
       "</div>"
      ],
      "text/plain": [
       "  aspiration num-of-doors drive-wheels num-of-cylinders\n",
       "3        std          two          rwd             four\n",
       "3        std          two          rwd             four\n",
       "1        std          two          rwd              six\n",
       "2        std         four          fwd             four\n",
       "2        std         four          4wd             five"
      ]
     },
     "execution_count": 7,
     "metadata": {},
     "output_type": "execute_result"
    }
   ],
   "source": [
    "# Step 3: Keep only 4 columns initially\n",
    "df_car = df[['aspiration', 'num-of-doors', 'drive-wheels', 'num-of-cylinders']]\n",
    "\n",
    "# 🔍 Screenshot #1: Show selected columns\n",
    "df_car.head()\n"
   ]
  },
  {
   "cell_type": "markdown",
   "id": "39efb1df-62b4-44e0-8bbd-4d92d216a78f",
   "metadata": {},
   "source": [
    "Step 4: ENCODE ORDINAL FEATURES\n"
   ]
  },
  {
   "cell_type": "code",
   "execution_count": 8,
   "id": "d4422039-69ff-4d5b-b8ec-513cb3f3f9f7",
   "metadata": {},
   "outputs": [
    {
     "name": "stderr",
     "output_type": "stream",
     "text": [
      "C:\\Users\\ALFRED\\AppData\\Local\\Temp\\ipykernel_20548\\3007604755.py:5: SettingWithCopyWarning: \n",
      "A value is trying to be set on a copy of a slice from a DataFrame.\n",
      "Try using .loc[row_indexer,col_indexer] = value instead\n",
      "\n",
      "See the caveats in the documentation: https://pandas.pydata.org/pandas-docs/stable/user_guide/indexing.html#returning-a-view-versus-a-copy\n",
      "  df_car['doors'] = df_car[\"num-of-doors\"].replace(door_mapper).astype(float)\n",
      "C:\\Users\\ALFRED\\AppData\\Local\\Temp\\ipykernel_20548\\3007604755.py:12: SettingWithCopyWarning: \n",
      "A value is trying to be set on a copy of a slice from a DataFrame.\n",
      "Try using .loc[row_indexer,col_indexer] = value instead\n",
      "\n",
      "See the caveats in the documentation: https://pandas.pydata.org/pandas-docs/stable/user_guide/indexing.html#returning-a-view-versus-a-copy\n",
      "  df_car['cylinders'] = df_car[\"num-of-cylinders\"].replace(cylinder_mapper).astype(float)\n"
     ]
    },
    {
     "data": {
      "text/html": [
       "<div>\n",
       "<style scoped>\n",
       "    .dataframe tbody tr th:only-of-type {\n",
       "        vertical-align: middle;\n",
       "    }\n",
       "\n",
       "    .dataframe tbody tr th {\n",
       "        vertical-align: top;\n",
       "    }\n",
       "\n",
       "    .dataframe thead th {\n",
       "        text-align: right;\n",
       "    }\n",
       "</style>\n",
       "<table border=\"1\" class=\"dataframe\">\n",
       "  <thead>\n",
       "    <tr style=\"text-align: right;\">\n",
       "      <th></th>\n",
       "      <th>num-of-doors</th>\n",
       "      <th>doors</th>\n",
       "      <th>num-of-cylinders</th>\n",
       "      <th>cylinders</th>\n",
       "    </tr>\n",
       "  </thead>\n",
       "  <tbody>\n",
       "    <tr>\n",
       "      <th>3</th>\n",
       "      <td>two</td>\n",
       "      <td>2.0</td>\n",
       "      <td>four</td>\n",
       "      <td>4.0</td>\n",
       "    </tr>\n",
       "    <tr>\n",
       "      <th>3</th>\n",
       "      <td>two</td>\n",
       "      <td>2.0</td>\n",
       "      <td>four</td>\n",
       "      <td>4.0</td>\n",
       "    </tr>\n",
       "    <tr>\n",
       "      <th>1</th>\n",
       "      <td>two</td>\n",
       "      <td>2.0</td>\n",
       "      <td>six</td>\n",
       "      <td>6.0</td>\n",
       "    </tr>\n",
       "    <tr>\n",
       "      <th>2</th>\n",
       "      <td>four</td>\n",
       "      <td>4.0</td>\n",
       "      <td>four</td>\n",
       "      <td>4.0</td>\n",
       "    </tr>\n",
       "    <tr>\n",
       "      <th>2</th>\n",
       "      <td>four</td>\n",
       "      <td>4.0</td>\n",
       "      <td>five</td>\n",
       "      <td>5.0</td>\n",
       "    </tr>\n",
       "  </tbody>\n",
       "</table>\n",
       "</div>"
      ],
      "text/plain": [
       "  num-of-doors  doors num-of-cylinders  cylinders\n",
       "3          two    2.0             four        4.0\n",
       "3          two    2.0             four        4.0\n",
       "1          two    2.0              six        6.0\n",
       "2         four    4.0             four        4.0\n",
       "2         four    4.0             five        5.0"
      ]
     },
     "execution_count": 8,
     "metadata": {},
     "output_type": "execute_result"
    }
   ],
   "source": [
    "# Step 4: Encode ordinal values\n",
    "\n",
    "# Encode 'num-of-doors'\n",
    "door_mapper = {\"two\": 2, \"four\": 4}\n",
    "df_car['doors'] = df_car[\"num-of-doors\"].replace(door_mapper).astype(float)\n",
    "\n",
    "# Encode 'num-of-cylinders'\n",
    "cylinder_mapper = {\n",
    "    \"two\": 2, \"three\": 3, \"four\": 4, \"five\": 5,\n",
    "    \"six\": 6, \"eight\": 8, \"twelve\": 12\n",
    "}\n",
    "df_car['cylinders'] = df_car[\"num-of-cylinders\"].replace(cylinder_mapper).astype(float)\n",
    "\n",
    "\n",
    "df_car[['num-of-doors', 'doors', 'num-of-cylinders', 'cylinders']].head()\n"
   ]
  },
  {
   "cell_type": "markdown",
   "id": "e159d1e8-e4c8-432b-b437-f22d9ef61aeb",
   "metadata": {},
   "source": [
    "Step 5: ENCODE NON-ORDINAL FEATURES"
   ]
  },
  {
   "cell_type": "code",
   "execution_count": 9,
   "id": "12f1f771-df9e-458b-a711-7dbb559edf56",
   "metadata": {
    "scrolled": true
   },
   "outputs": [
    {
     "data": {
      "text/html": [
       "<div>\n",
       "<style scoped>\n",
       "    .dataframe tbody tr th:only-of-type {\n",
       "        vertical-align: middle;\n",
       "    }\n",
       "\n",
       "    .dataframe tbody tr th {\n",
       "        vertical-align: top;\n",
       "    }\n",
       "\n",
       "    .dataframe thead th {\n",
       "        text-align: right;\n",
       "    }\n",
       "</style>\n",
       "<table border=\"1\" class=\"dataframe\">\n",
       "  <thead>\n",
       "    <tr style=\"text-align: right;\">\n",
       "      <th></th>\n",
       "      <th>aspiration_turbo</th>\n",
       "      <th>drive-wheels_4wd</th>\n",
       "      <th>drive-wheels_fwd</th>\n",
       "      <th>drive-wheels_rwd</th>\n",
       "    </tr>\n",
       "  </thead>\n",
       "  <tbody>\n",
       "    <tr>\n",
       "      <th>3</th>\n",
       "      <td>False</td>\n",
       "      <td>False</td>\n",
       "      <td>False</td>\n",
       "      <td>True</td>\n",
       "    </tr>\n",
       "    <tr>\n",
       "      <th>3</th>\n",
       "      <td>False</td>\n",
       "      <td>False</td>\n",
       "      <td>False</td>\n",
       "      <td>True</td>\n",
       "    </tr>\n",
       "    <tr>\n",
       "      <th>1</th>\n",
       "      <td>False</td>\n",
       "      <td>False</td>\n",
       "      <td>False</td>\n",
       "      <td>True</td>\n",
       "    </tr>\n",
       "    <tr>\n",
       "      <th>2</th>\n",
       "      <td>False</td>\n",
       "      <td>False</td>\n",
       "      <td>True</td>\n",
       "      <td>False</td>\n",
       "    </tr>\n",
       "    <tr>\n",
       "      <th>2</th>\n",
       "      <td>False</td>\n",
       "      <td>True</td>\n",
       "      <td>False</td>\n",
       "      <td>False</td>\n",
       "    </tr>\n",
       "  </tbody>\n",
       "</table>\n",
       "</div>"
      ],
      "text/plain": [
       "   aspiration_turbo  drive-wheels_4wd  drive-wheels_fwd  drive-wheels_rwd\n",
       "3             False             False             False              True\n",
       "3             False             False             False              True\n",
       "1             False             False             False              True\n",
       "2             False             False              True             False\n",
       "2             False              True             False             False"
      ]
     },
     "execution_count": 9,
     "metadata": {},
     "output_type": "execute_result"
    }
   ],
   "source": [
    "# Step 5: One-hot encode non-ordinal features\n",
    "df_car = pd.get_dummies(df_car, columns=['aspiration'], drop_first=True)\n",
    "df_car = pd.get_dummies(df_car, columns=['drive-wheels'])\n",
    "\n",
    "\n",
    "df_car[['aspiration_turbo', 'drive-wheels_4wd', 'drive-wheels_fwd', 'drive-wheels_rwd']].head()\n"
   ]
  },
  {
   "cell_type": "markdown",
   "id": "e6e6172b-a34e-4e1e-8105-25f7a5a88ac1",
   "metadata": {},
   "source": [
    "Step 6: CHALLENGE TASK — Add & Encode 2 More Columns"
   ]
  },
  {
   "cell_type": "code",
   "execution_count": 10,
   "id": "6e6d1cd3-9ce6-4ec8-b99f-99d19da32721",
   "metadata": {},
   "outputs": [
    {
     "data": {
      "text/html": [
       "<div>\n",
       "<style scoped>\n",
       "    .dataframe tbody tr th:only-of-type {\n",
       "        vertical-align: middle;\n",
       "    }\n",
       "\n",
       "    .dataframe tbody tr th {\n",
       "        vertical-align: top;\n",
       "    }\n",
       "\n",
       "    .dataframe thead th {\n",
       "        text-align: right;\n",
       "    }\n",
       "</style>\n",
       "<table border=\"1\" class=\"dataframe\">\n",
       "  <thead>\n",
       "    <tr style=\"text-align: right;\">\n",
       "      <th></th>\n",
       "      <th>fuel-type_gas</th>\n",
       "      <th>engine-location_rear</th>\n",
       "    </tr>\n",
       "  </thead>\n",
       "  <tbody>\n",
       "    <tr>\n",
       "      <th>3</th>\n",
       "      <td>True</td>\n",
       "      <td>False</td>\n",
       "    </tr>\n",
       "    <tr>\n",
       "      <th>3</th>\n",
       "      <td>True</td>\n",
       "      <td>False</td>\n",
       "    </tr>\n",
       "    <tr>\n",
       "      <th>1</th>\n",
       "      <td>True</td>\n",
       "      <td>False</td>\n",
       "    </tr>\n",
       "    <tr>\n",
       "      <th>2</th>\n",
       "      <td>True</td>\n",
       "      <td>False</td>\n",
       "    </tr>\n",
       "    <tr>\n",
       "      <th>2</th>\n",
       "      <td>True</td>\n",
       "      <td>False</td>\n",
       "    </tr>\n",
       "  </tbody>\n",
       "</table>\n",
       "</div>"
      ],
      "text/plain": [
       "   fuel-type_gas  engine-location_rear\n",
       "3           True                 False\n",
       "3           True                 False\n",
       "1           True                 False\n",
       "2           True                 False\n",
       "2           True                 False"
      ]
     },
     "execution_count": 10,
     "metadata": {},
     "output_type": "execute_result"
    }
   ],
   "source": [
    "# Step 6: Reload full dataset and extract extra columns\n",
    "df_full = pd.read_csv(url, names=col_names, na_values=\"?\", header=None)\n",
    "\n",
    "# Add two new features\n",
    "df_car['fuel-type'] = df_full['fuel-type']\n",
    "df_car['engine-location'] = df_full['engine-location']\n",
    "\n",
    "# Encode them\n",
    "df_car = pd.get_dummies(df_car, columns=['fuel-type'], drop_first=True)\n",
    "df_car = pd.get_dummies(df_car, columns=['engine-location'], drop_first=True)\n",
    "\n",
    "df_car[['fuel-type_gas', 'engine-location_rear']].head()\n"
   ]
  },
  {
   "cell_type": "markdown",
   "id": "ad75f38b-47ae-4436-a161-a055d33af1c0",
   "metadata": {},
   "source": [
    "Setp 7 : FINAL COLUMN CHECK"
   ]
  },
  {
   "cell_type": "code",
   "execution_count": null,
   "id": "abecde3d-04b8-4c0c-bf5f-62cdbb172502",
   "metadata": {},
   "outputs": [],
   "source": [
    "# Optional final check\n",
    "df_car.columns\n"
   ]
  }
 ],
 "metadata": {
  "kernelspec": {
   "display_name": "Python 3 (ipykernel)",
   "language": "python",
   "name": "python3"
  },
  "language_info": {
   "codemirror_mode": {
    "name": "ipython",
    "version": 3
   },
   "file_extension": ".py",
   "mimetype": "text/x-python",
   "name": "python",
   "nbconvert_exporter": "python",
   "pygments_lexer": "ipython3",
   "version": "3.12.4"
  }
 },
 "nbformat": 4,
 "nbformat_minor": 5
}
